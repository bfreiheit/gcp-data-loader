{
 "cells": [
  {
   "cell_type": "code",
   "execution_count": 1,
   "id": "96c3f8c9",
   "metadata": {},
   "outputs": [
    {
     "name": "stdout",
     "output_type": "stream",
     "text": [
      "tabelle ./data/raw/jaffle-data/raw_items.csv\n",
      "id          0\n",
      "order_id    0\n",
      "sku         0\n",
      "dtype: int64\n",
      "tabelle ./data/raw/jaffle-data/raw_products.csv\n",
      "sku            0\n",
      "name           0\n",
      "type           0\n",
      "price          0\n",
      "description    0\n",
      "dtype: int64\n",
      "tabelle ./data/raw/jaffle-data/raw_orders.csv\n",
      "id             0\n",
      "customer       0\n",
      "ordered_at     0\n",
      "store_id       0\n",
      "subtotal       0\n",
      "tax_paid       0\n",
      "order_total    0\n",
      "dtype: int64\n",
      "tabelle ./data/raw/jaffle-data/raw_stores.csv\n",
      "id           0\n",
      "name         0\n",
      "opened_at    0\n",
      "tax_rate     0\n",
      "dtype: int64\n",
      "tabelle ./data/raw/jaffle-data/raw_customers.csv\n",
      "id      0\n",
      "name    0\n",
      "dtype: int64\n",
      "tabelle ./data/raw/jaffle-data/raw_tweets.csv\n",
      "id            0\n",
      "user_id       0\n",
      "tweeted_at    0\n",
      "content       0\n",
      "dtype: int64\n",
      "tabelle ./data/raw/jaffle-data/raw_supplies.csv\n",
      "id            0\n",
      "name          0\n",
      "cost          0\n",
      "perishable    0\n",
      "sku           0\n",
      "dtype: int64\n"
     ]
    }
   ],
   "source": [
    "import pandas as pd\n",
    "import sys\n",
    "import os\n",
    "\n",
    "DATA_DIR = \"./data/raw/jaffle-data\"\n",
    "\n",
    "# Alle CSV-Dateien im Verzeichnis durchgehen\n",
    "for file in os.listdir(DATA_DIR):\n",
    "    if file.endswith(\".csv\"):\n",
    "        file_path = os.path.join(DATA_DIR, file)  \n",
    "        print(\"tabelle\", file_path)    \n",
    "        df = pd.read_csv(file_path)\n",
    "        print(df.isna().sum())\n",
    "\n"
   ]
  }
 ],
 "metadata": {
  "kernelspec": {
   "display_name": ".venv",
   "language": "python",
   "name": "python3"
  },
  "language_info": {
   "codemirror_mode": {
    "name": "ipython",
    "version": 3
   },
   "file_extension": ".py",
   "mimetype": "text/x-python",
   "name": "python",
   "nbconvert_exporter": "python",
   "pygments_lexer": "ipython3",
   "version": "3.12.3"
  }
 },
 "nbformat": 4,
 "nbformat_minor": 5
}
